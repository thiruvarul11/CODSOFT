{
  "nbformat": 4,
  "nbformat_minor": 0,
  "metadata": {
    "colab": {
      "provenance": []
    },
    "kernelspec": {
      "name": "python3",
      "display_name": "Python 3"
    },
    "language_info": {
      "name": "python"
    }
  },
  "cells": [
    {
      "cell_type": "code",
      "execution_count": 11,
      "metadata": {
        "colab": {
          "base_uri": "https://localhost:8080/",
          "height": 1000
        },
        "id": "xWp8mlwzqsGw",
        "outputId": "7260147f-b0eb-4599-9de8-2f565f68f01e"
      },
      "outputs": [
        {
          "output_type": "stream",
          "name": "stdout",
          "text": [
            "Shape of the dataset: (284807, 31)\n",
            "\n",
            "Missing values:\n",
            " Time      0\n",
            "V1        0\n",
            "V2        0\n",
            "V3        0\n",
            "V4        0\n",
            "V5        0\n",
            "V6        0\n",
            "V7        0\n",
            "V8        0\n",
            "V9        0\n",
            "V10       0\n",
            "V11       0\n",
            "V12       0\n",
            "V13       0\n",
            "V14       0\n",
            "V15       0\n",
            "V16       0\n",
            "V17       0\n",
            "V18       0\n",
            "V19       0\n",
            "V20       0\n",
            "V21       0\n",
            "V22       0\n",
            "V23       0\n",
            "V24       0\n",
            "V25       0\n",
            "V26       0\n",
            "V27       0\n",
            "V28       0\n",
            "Amount    0\n",
            "Class     0\n",
            "dtype: int64\n",
            "\n",
            "Class distribution:\n",
            " Class\n",
            "0    284315\n",
            "1       492\n",
            "Name: count, dtype: int64\n",
            "Missing values after cleanup:\n",
            " Time      0\n",
            "V1        0\n",
            "V2        0\n",
            "V3        0\n",
            "V4        0\n",
            "V5        0\n",
            "V6        0\n",
            "V7        0\n",
            "V8        0\n",
            "V9        0\n",
            "V10       0\n",
            "V11       0\n",
            "V12       0\n",
            "V13       0\n",
            "V14       0\n",
            "V15       0\n",
            "V16       0\n",
            "V17       0\n",
            "V18       0\n",
            "V19       0\n",
            "V20       0\n",
            "V21       0\n",
            "V22       0\n",
            "V23       0\n",
            "V24       0\n",
            "V25       0\n",
            "V26       0\n",
            "V27       0\n",
            "V28       0\n",
            "Amount    0\n",
            "Class     0\n",
            "dtype: int64\n",
            "Accuracy: 0.9991397773954567\n",
            "\n",
            "Classification Report:\n",
            "               precision    recall  f1-score   support\n",
            "\n",
            "           0       1.00      1.00      1.00     56864\n",
            "           1       0.83      0.63      0.72        98\n",
            "\n",
            "    accuracy                           1.00     56962\n",
            "   macro avg       0.91      0.82      0.86     56962\n",
            "weighted avg       1.00      1.00      1.00     56962\n",
            "\n"
          ]
        },
        {
          "output_type": "display_data",
          "data": {
            "text/plain": [
              "<Figure size 640x480 with 2 Axes>"
            ],
            "image/png": "[encoded data removed]"
          },
          "metadata": {}
        }
      ],
      "source": [
        "import pandas as pd\n",
        "import numpy as np\n",
        "import matplotlib.pyplot as plt\n",
        "import seaborn as sns\n",
        "from sklearn.model_selection import train_test_split\n",
        "from sklearn.preprocessing import StandardScaler\n",
        "from sklearn.linear_model import LogisticRegression\n",
        "from sklearn.metrics import classification_report, confusion_matrix, accuracy_score\n",
        "df = pd.read_csv('creditcard.csv')\n",
        "df.head()\n",
        "print(\"Shape of the dataset:\",df.shape)\n",
        "print(\"\\nMissing values:\\n\",df.isnull().sum())\n",
        "print(\"\\nClass distribution:\\n\",df['Class'].value_counts())\n",
        "sns.countplot(data=df,x='Class')\n",
        "df=df.dropna()\n",
        "print(\"Missing values after cleanup:\\n\",df.isnull().sum())\n",
        "X=df.drop('Class',axis=1)\n",
        "y=df['Class']\n",
        "X_train,X_test,y_train,y_test=train_test_split(X,y,test_size=0.2,random_state=42,stratify=y)\n",
        "scaler=StandardScaler()\n",
        "X_train_scaled=scaler.fit_transform(X_train)\n",
        "X_test_scaled=scaler.transform(X_test)\n",
        "model=LogisticRegression()\n",
        "model.fit(X_train_scaled, y_train)\n",
        "y_pred=model.predict(X_test_scaled)\n",
        "print(\"Accuracy:\",accuracy_score(y_test,y_pred))\n",
        "print(\"\\nClassification Report:\\n\",classification_report(y_test,y_pred))\n",
        "cm=confusion_matrix(y_test,y_pred)\n",
        "sns.heatmap(cm,annot=True,fmt=\"d\",cmap=\"Blues\")\n",
        "plt.xlabel(\"Predicted\")\n",
        "plt.ylabel(\"Actual\")\n",
        "plt.title(\"Confusion Matrix\")\n",
        "plt.show()\n"
      ]
    }
  ]
}